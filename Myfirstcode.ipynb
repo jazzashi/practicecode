{
 "cells": [
  {
   "cell_type": "markdown",
   "id": "41323a1f",
   "metadata": {},
   "source": [
    "# Cherry Maha Gandu Hai"
   ]
  },
  {
   "cell_type": "code",
   "execution_count": 5,
   "id": "b40b35ec",
   "metadata": {},
   "outputs": [],
   "source": [
    "def iseven(num:float)-> bool:\n",
    "    return num%2==0\n",
    "    \n",
    "    \n",
    "    \n",
    "    "
   ]
  },
  {
   "cell_type": "code",
   "execution_count": 6,
   "id": "de29c506",
   "metadata": {},
   "outputs": [
    {
     "name": "stdout",
     "output_type": "stream",
     "text": [
      "The number 1 is odd\n",
      "The number 2 is even\n",
      "The number 3 is odd\n",
      "The number 4 is even\n",
      "The number 5 is odd\n",
      "The number 6 is even\n",
      "The number 7 is odd\n",
      "The number 8 is even\n",
      "The number 9 is odd\n",
      "The number 10 is even\n"
     ]
    }
   ],
   "source": [
    "numlist:list=[1,2,3,4,5,6,7,8,9,10]\n",
    "for a in numlist:\n",
    "    if iseven(a):\n",
    "        print(f\"The number {a} is even\")\n",
    "    else:\n",
    "        print(f\"The number {a} is odd\")\n",
    "        \n",
    "    "
   ]
  },
  {
   "cell_type": "code",
   "execution_count": null,
   "id": "3a59b4a6",
   "metadata": {},
   "outputs": [],
   "source": [
    "def sort(sortlist:list):\n",
    "    islargest=sortlist[0]\n",
    "    \n",
    "    for a+1 in sortlist:\n",
    "        if sortlist[a+1]>islargest:\n",
    "            islargest=sortlist[a+1]\n",
    "            sortlist[a+1]=sortlist[a]\n",
    "            sortlist[a]=islargest\n",
    "            \n",
    "        else:\n",
    "            \n",
    "            \n",
    "        \n",
    "        "
   ]
  }
 ],
 "metadata": {
  "kernelspec": {
   "display_name": "Python 3 (ipykernel)",
   "language": "python",
   "name": "python3"
  },
  "language_info": {
   "codemirror_mode": {
    "name": "ipython",
    "version": 3
   },
   "file_extension": ".py",
   "mimetype": "text/x-python",
   "name": "python",
   "nbconvert_exporter": "python",
   "pygments_lexer": "ipython3",
   "version": "3.10.9"
  }
 },
 "nbformat": 4,
 "nbformat_minor": 5
}
